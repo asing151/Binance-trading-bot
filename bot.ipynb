{
 "cells": [
  {
   "cell_type": "code",
   "execution_count": 1,
   "metadata": {},
   "outputs": [],
   "source": [
    "from binance import Client\n",
    "import pandas as pd"
   ]
  },
  {
   "cell_type": "code",
   "execution_count": null,
   "metadata": {},
   "outputs": [],
   "source": [
    "key = your_key\n",
    "secret = your_secret"
   ]
  },
  {
   "cell_type": "code",
   "execution_count": null,
   "metadata": {},
   "outputs": [],
   "source": [
    "client = Client(key, secret) "
   ]
  },
  {
   "cell_type": "code",
   "execution_count": 19,
   "metadata": {},
   "outputs": [],
   "source": [
    "posframe = pd.read_csv('positions')\n"
   ]
  },
  {
   "cell_type": "code",
   "execution_count": 4,
   "metadata": {},
   "outputs": [
    {
     "data": {
      "text/html": [
       "<div>\n",
       "<style scoped>\n",
       "    .dataframe tbody tr th:only-of-type {\n",
       "        vertical-align: middle;\n",
       "    }\n",
       "\n",
       "    .dataframe tbody tr th {\n",
       "        vertical-align: top;\n",
       "    }\n",
       "\n",
       "    .dataframe thead th {\n",
       "        text-align: right;\n",
       "    }\n",
       "</style>\n",
       "<table border=\"1\" class=\"dataframe\">\n",
       "  <thead>\n",
       "    <tr style=\"text-align: right;\">\n",
       "      <th></th>\n",
       "      <th>Currency</th>\n",
       "      <th>position</th>\n",
       "      <th>quantity</th>\n",
       "    </tr>\n",
       "  </thead>\n",
       "  <tbody>\n",
       "    <tr>\n",
       "      <th>0</th>\n",
       "      <td>BTCUSDT</td>\n",
       "      <td>0</td>\n",
       "      <td>0.002</td>\n",
       "    </tr>\n",
       "    <tr>\n",
       "      <th>1</th>\n",
       "      <td>ETHUSDT</td>\n",
       "      <td>0</td>\n",
       "      <td>0.020</td>\n",
       "    </tr>\n",
       "    <tr>\n",
       "      <th>2</th>\n",
       "      <td>ADAUSDT</td>\n",
       "      <td>0</td>\n",
       "      <td>100.000</td>\n",
       "    </tr>\n",
       "  </tbody>\n",
       "</table>\n",
       "</div>"
      ],
      "text/plain": [
       "  Currency  position  quantity\n",
       "0  BTCUSDT         0     0.002\n",
       "1  ETHUSDT         0     0.020\n",
       "2  ADAUSDT         0   100.000"
      ]
     },
     "execution_count": 4,
     "metadata": {},
     "output_type": "execute_result"
    }
   ],
   "source": [
    "posframe"
   ]
  },
  {
   "cell_type": "code",
   "execution_count": 21,
   "metadata": {},
   "outputs": [],
   "source": [
    "def changepos(curr, buy = True):\n",
    "    if buy:\n",
    "        posframe.loc[posframe.Currency == curr, 'positions'] = 1\n",
    "    else:\n",
    "        posframe.loc[posframe.Currency == curr, 'positions'] = 0 \n",
    "    \n",
    "    posframe.to_csv('positions', index = False)\n"
   ]
  },
  {
   "cell_type": "code",
   "execution_count": 32,
   "metadata": {},
   "outputs": [],
   "source": [
    "def gethourlydata(symbol):\n",
    "    frame = pd.DataFrame(Client.get_historical_klines(symbol, '1h', '25 hours ago UTC'))\n",
    "    frame = frame.iloc[:,:5]\n",
    "    frame.columns = ['Time','Open','High','Low','Close']\n",
    "    frame[['Open','High','Low','Close']] = frame[['Open','High','Low','Close']].astype(float)\n",
    "    frame.Time = pd.to_datetime(frame.Time, unit = 'ms')\n",
    "    return frame\n"
   ]
  },
  {
   "cell_type": "code",
   "execution_count": null,
   "metadata": {},
   "outputs": [],
   "source": [
    "df = gethourlydata('BTCUSDT')"
   ]
  },
  {
   "cell_type": "code",
   "execution_count": 26,
   "metadata": {},
   "outputs": [],
   "source": [
    "def applytechnicals(df):\n",
    "    df['FastSMA'] = df.Close.rolling(7).mean()\n",
    "    df['SlowSMA'] = df.Close.rolling(25).mean()"
   ]
  },
  {
   "cell_type": "code",
   "execution_count": null,
   "metadata": {},
   "outputs": [],
   "source": [
    "applytechnicals(df)"
   ]
  },
  {
   "cell_type": "code",
   "execution_count": null,
   "metadata": {},
   "outputs": [],
   "source": [
    "def trader(curr):\n",
    "    qty = posframe[posframe.Currency == curr].quantity.values[0]\n",
    "    df = gethourlydata(curr)\n",
    "    applytechnicals(df)\n",
    "    lastrow = df.iloc[-1]\n",
    "    if not posframe[posframe.Currency == curr].position.values[0]:\n",
    "        if lastrow.FastSMA > lastrow.SlowSMA:\n",
    "            order = Client.create_order(symbol = curr, side = 'BUY', type = 'MARKET', quantity = qty)\n",
    "\n",
    "            print(order)\n",
    "            changepos(curr, buy = True)\n",
    "        else:\n",
    "            print(f'Not in position {curr} but Condition not fulfilled')\n",
    "    \n",
    "    else:\n",
    "        print(f'already in {curr} position')\n",
    "        if lastrow.SlowSMA > lastrow.FastSMA:\n",
    "            order = client.create_order(symbol=curr,side = 'SELL', type='MARKET', quantity = qty)\n",
    "            print(order)\n",
    "            changepos(curr, buy=False)\n"
   ]
  },
  {
   "cell_type": "code",
   "execution_count": null,
   "metadata": {},
   "outputs": [],
   "source": [
    "for coin in posframe.Currency:\n",
    "    trader(coin)"
   ]
  }
 ],
 "metadata": {
  "interpreter": {
   "hash": "aee8b7b246df8f9039afb4144a1f6fd8d2ca17a180786b69acc140d282b71a49"
  },
  "kernelspec": {
   "display_name": "Python 3.9.12 64-bit",
   "name": "python3"
  },
  "language_info": {
   "codemirror_mode": {
    "name": "ipython",
    "version": 3
   },
   "file_extension": ".py",
   "mimetype": "text/x-python",
   "name": "python",
   "nbconvert_exporter": "python",
   "pygments_lexer": "ipython3",
   "version": "3.9.12"
  },
  "orig_nbformat": 4
 },
 "nbformat": 4,
 "nbformat_minor": 2
}
